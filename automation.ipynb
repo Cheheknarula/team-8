{
  "nbformat": 4,
  "nbformat_minor": 0,
  "metadata": {
    "colab": {
      "provenance": []
    },
    "kernelspec": {
      "name": "python3",
      "display_name": "Python 3"
    },
    "language_info": {
      "name": "python"
    }
  },
  "cells": [
    {
      "cell_type": "code",
      "source": [
        "\n",
        "pip install --upgrade linkedin-api\n"
      ],
      "metadata": {
        "colab": {
          "base_uri": "https://localhost:8080/"
        },
        "id": "FwO6san-Xq3e",
        "outputId": "ec15dea2-af8b-4c93-995a-c60788c906e9"
      },
      "execution_count": 21,
      "outputs": [
        {
          "output_type": "stream",
          "name": "stdout",
          "text": [
            "Looking in indexes: https://pypi.org/simple, https://us-python.pkg.dev/colab-wheels/public/simple/\n",
            "Requirement already satisfied: linkedin-api in /usr/local/lib/python3.9/dist-packages (1.1.0)\n",
            "Requirement already satisfied: requests in /usr/local/lib/python3.9/dist-packages (from linkedin-api) (2.27.1)\n",
            "Requirement already satisfied: urllib3<1.27,>=1.21.1 in /usr/local/lib/python3.9/dist-packages (from requests->linkedin-api) (1.26.15)\n",
            "Requirement already satisfied: certifi>=2017.4.17 in /usr/local/lib/python3.9/dist-packages (from requests->linkedin-api) (2022.12.7)\n",
            "Requirement already satisfied: charset-normalizer~=2.0.0 in /usr/local/lib/python3.9/dist-packages (from requests->linkedin-api) (2.0.12)\n",
            "Requirement already satisfied: idna<4,>=2.5 in /usr/local/lib/python3.9/dist-packages (from requests->linkedin-api) (3.4)\n"
          ]
        }
      ]
    },
    {
      "cell_type": "code",
      "source": [
        "pip install facebook-sdk\n"
      ],
      "metadata": {
        "colab": {
          "base_uri": "https://localhost:8080/"
        },
        "id": "oc2VoRdnZRaJ",
        "outputId": "f8a3231c-5c95-464b-f6d7-25a1d3eba8d9"
      },
      "execution_count": 24,
      "outputs": [
        {
          "output_type": "stream",
          "name": "stdout",
          "text": [
            "Looking in indexes: https://pypi.org/simple, https://us-python.pkg.dev/colab-wheels/public/simple/\n",
            "Collecting facebook-sdk\n",
            "  Downloading facebook_sdk-3.1.0-py2.py3-none-any.whl (7.5 kB)\n",
            "Requirement already satisfied: requests in /usr/local/lib/python3.9/dist-packages (from facebook-sdk) (2.27.1)\n",
            "Requirement already satisfied: charset-normalizer~=2.0.0 in /usr/local/lib/python3.9/dist-packages (from requests->facebook-sdk) (2.0.12)\n",
            "Requirement already satisfied: certifi>=2017.4.17 in /usr/local/lib/python3.9/dist-packages (from requests->facebook-sdk) (2022.12.7)\n",
            "Requirement already satisfied: urllib3<1.27,>=1.21.1 in /usr/local/lib/python3.9/dist-packages (from requests->facebook-sdk) (1.26.15)\n",
            "Requirement already satisfied: idna<4,>=2.5 in /usr/local/lib/python3.9/dist-packages (from requests->facebook-sdk) (3.4)\n",
            "Installing collected packages: facebook-sdk\n",
            "Successfully installed facebook-sdk-3.1.0\n"
          ]
        }
      ]
    },
    {
      "cell_type": "code",
      "execution_count": 29,
      "metadata": {
        "id": "sJTf1HpnJnlw",
        "colab": {
          "base_uri": "https://localhost:8080/",
          "height": 258
        },
        "outputId": "82f2f49c-1c0f-4852-c645-130b8c875bde"
      },
      "outputs": [
        {
          "output_type": "error",
          "ename": "ValueError",
          "evalue": "ignored",
          "traceback": [
            "\u001b[0;31m---------------------------------------------------------------------------\u001b[0m",
            "\u001b[0;31mValueError\u001b[0m                                Traceback (most recent call last)",
            "\u001b[0;32m<ipython-input-29-d54cabd744f1>\u001b[0m in \u001b[0;36m<cell line: 119>\u001b[0;34m()\u001b[0m\n\u001b[1;32m    118\u001b[0m \u001b[0;31m# Iterate over each row in the Excel sheet\u001b[0m\u001b[0;34m\u001b[0m\u001b[0;34m\u001b[0m\u001b[0m\n\u001b[1;32m    119\u001b[0m \u001b[0;32mfor\u001b[0m \u001b[0mrow\u001b[0m \u001b[0;32min\u001b[0m \u001b[0mworksheet\u001b[0m\u001b[0;34m.\u001b[0m\u001b[0miter_rows\u001b[0m\u001b[0;34m(\u001b[0m\u001b[0mmin_row\u001b[0m\u001b[0;34m=\u001b[0m\u001b[0;36m2\u001b[0m\u001b[0;34m,\u001b[0m \u001b[0mvalues_only\u001b[0m\u001b[0;34m=\u001b[0m\u001b[0;32mTrue\u001b[0m\u001b[0;34m)\u001b[0m\u001b[0;34m:\u001b[0m\u001b[0;34m\u001b[0m\u001b[0;34m\u001b[0m\u001b[0m\n\u001b[0;32m--> 120\u001b[0;31m     \u001b[0mtitle\u001b[0m\u001b[0;34m,\u001b[0m \u001b[0mdescription\u001b[0m\u001b[0;34m,\u001b[0m \u001b[0mfile_path\u001b[0m\u001b[0;34m,\u001b[0m \u001b[0mplatform\u001b[0m\u001b[0;34m,\u001b[0m \u001b[0mpublish_date\u001b[0m\u001b[0;34m,\u001b[0m \u001b[0mtags\u001b[0m\u001b[0;34m,\u001b[0m \u001b[0mthumbnail\u001b[0m\u001b[0;34m,\u001b[0m \u001b[0mprivacy\u001b[0m\u001b[0;34m,\u001b[0m \u001b[0mcomments\u001b[0m \u001b[0;34m=\u001b[0m \u001b[0mrow\u001b[0m\u001b[0;34m\u001b[0m\u001b[0;34m\u001b[0m\u001b[0m\n\u001b[0m\u001b[1;32m    121\u001b[0m \u001b[0;34m\u001b[0m\u001b[0m\n\u001b[1;32m    122\u001b[0m     \u001b[0;31m# Convert the publish_date string to a datetime object\u001b[0m\u001b[0;34m\u001b[0m\u001b[0;34m\u001b[0m\u001b[0m\n",
            "\u001b[0;31mValueError\u001b[0m: too many values to unpack (expected 9)"
          ]
        }
      ],
      "source": [
        "import openpyxl\n",
        "from datetime import datetime\n",
        "from google.oauth2.credentials import Credentials\n",
        "from googleapiclient.discovery import build\n",
        "from linkedin_api import Linkedin\n",
        "import facebook\n",
        "\n",
        "# Function to upload videos/posts to YouTube\n",
        "def upload_to_youtube(title, description, file_path, tags, thumbnail, privacy, comments, publish_time):\n",
        "    # Set up YouTube API client\n",
        "    credentials = Credentials.from_authorized_user_file('credentials.json', ['https://www.googleapis.com/auth/youtube.force-ssl'])\n",
        "    youtube = build('youtube', 'v3', credentials=credentials)\n",
        "    \n",
        "    # Create the video metadata\n",
        "    request_body = {\n",
        "        'snippet': {\n",
        "            'title': title,\n",
        "            'description': description,\n",
        "            'tags': tags.split(','),\n",
        "        },\n",
        "        'status': {\n",
        "            'privacyStatus': privacy,\n",
        "            'selfDeclaredMadeForKids': False,\n",
        "            'commentModerationSetting': 'moderate' if comments.lower() == 'yes' else 'none',\n",
        "        },\n",
        "    }\n",
        "    \n",
        "    # Upload the video\n",
        "    insert_request = youtube.videos().insert(\n",
        "        part='snippet,status',\n",
        "        body=request_body,\n",
        "        media_body=MediaFileUpload(file_path),\n",
        "        notifySubscribers=False\n",
        "    )\n",
        "    response = insert_request.execute()\n",
        "    \n",
        "    # Set the thumbnail for the video\n",
        "    if thumbnail:\n",
        "        youtube.thumbnails().set(\n",
        "            videoId=response['id'],\n",
        "            media_body=MediaFileUpload(thumbnail)\n",
        "        ).execute()\n",
        "    \n",
        "    # Set the publish time for the video\n",
        "    youtube.videos().update(\n",
        "        part='snippet',\n",
        "        body={\n",
        "            'id': response['id'],\n",
        "            'snippet': {\n",
        "                'scheduledStartTime': publish_time.strftime('%Y-%m-%dT%H:%M:%S.%fZ')\n",
        "            }\n",
        "        }\n",
        "    ).execute()\n",
        "\n",
        "# Function to upload posts to LinkedIn\n",
        "def upload_to_linkedin(title, description, file_path, tags, privacy, publish_time):\n",
        "    # Set up LinkedIn API client\n",
        "    client = Linkedin(access_token='your-access-token')\n",
        "    \n",
        "    # Create the post metadata\n",
        "    post_data = {\n",
        "        'author': 'urn:li:organization:your-organization-id',\n",
        "        'lifecycleState': 'PUBLISHED',\n",
        "        'specificContent': {\n",
        "            'com.linkedin.ugc.ShareContent': {\n",
        "                'shareCommentary': {\n",
        "                    'text': description,\n",
        "                },\n",
        "                'media': [\n",
        "                    {\n",
        "                        'status': 'READY',\n",
        "                        'media': file_path,\n",
        "                        'title': {\n",
        "                            'text': title\n",
        "                        }\n",
        "                    }\n",
        "                ],\n",
        "                'shareMediaCategory': 'VIDEO',\n",
        "            }\n",
        "        },\n",
        "        'visibility': {\n",
        "            'com.linkedin.ugc.MemberNetworkVisibility': privacy.title()\n",
        "        },\n",
        "    }\n",
        "    \n",
        "    # Upload the post\n",
        "    client._post('/media/upload', post_data)\n",
        "    \n",
        "    # Publish the post at the specified time\n",
        "    client._post(f'/shares?owner=urn:li:organization:your-organization-id&sharesEnabled=true&visibility={privacy.title()}&scheduledStartTime={publish_time.timestamp()*1000}', post_data)\n",
        "\n",
        "# Function to upload posts to Facebook\n",
        "def upload_to_facebook(title, description, file_path, tags, privacy, publish_time):\n",
        "    # Set up Facebook API client\n",
        "    access_token = 'your-access-token'\n",
        "    graph = facebook.GraphAPI(access_token)\n",
        "    \n",
        "    # Create the post metadata\n",
        "    post_data = {\n",
        "        'title': title,\n",
        "        'description': description,\n",
        "        'source': open(file_path, 'rb'),\n",
        "    }\n",
        "    \n",
        "    # Upload the post\n",
        "    graph.put_object('me', 'videos', **post_data)\n",
        "    \n",
        "    # Set the privacy for the post\n",
        "    graph.put_object('me', 'permissions', privacy={'value': privacy})\n",
        "    \n",
        "    # Publish the post at the specified time\n",
        "    graph.put_object('me', 'feed', message=title, scheduled_publish_time=int(publish_time.timestamp()))\n",
        "    \n",
        "# Load the Excel sheet\n",
        "workbook = openpyxl.load_workbook('/Book1.xlsx')\n",
        "worksheet = workbook.active\n",
        "\n",
        "# Iterate over each row in the Excel sheet\n",
        "for row in worksheet.iter_rows(min_row=2, values_only=True):\n",
        "    title, description, file_path, platform, publish_date, tags, thumbnail, privacy, comments = row\n",
        "    \n",
        "    # Convert the publish_date string to a datetime object\n",
        "    publish_time = datetime.strptime(publish_date, '%Y-%m-%d %H:%M:%S')\n",
        "    \n",
        "    # Upload the video/post to the specified platform\n",
        "    if platform.lower() == 'youtube':\n",
        "        upload_to_youtube(title, description, file_path, tags, thumbnail, privacy, comments, publish_time)\n",
        "    elif platform.lower() == 'linkedin':\n",
        "        upload_to_linkedin(title, description, file_path, tags, privacy, publish_time)\n",
        "    elif platform.lower() == 'facebook':\n",
        "        upload_to_facebook(title, description, file_path, tags, privacy, publish_time)\n",
        "\n"
      ]
    },
    {
      "cell_type": "code",
      "source": [],
      "metadata": {
        "id": "15iEl3K0ZCWd"
      },
      "execution_count": null,
      "outputs": []
    }
  ]
}